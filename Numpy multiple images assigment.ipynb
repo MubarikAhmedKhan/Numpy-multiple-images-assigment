{
 "cells": [
  {
   "cell_type": "code",
   "execution_count": null,
   "metadata": {},
   "outputs": [],
   "source": []
  },
  {
   "cell_type": "code",
   "execution_count": 276,
   "metadata": {},
   "outputs": [],
   "source": [
    "import numpy as np\n",
    "from PIL import Image\n",
    "import os\n",
    "imageSize = (200, 200)\n",
    "picsDir = os.listdir('./photos')\n",
    "rootDir = './photos/'"
   ]
  },
  {
   "cell_type": "code",
   "execution_count": 244,
   "metadata": {},
   "outputs": [],
   "source": [
    "file_count = len(picsDir)\n",
    "image_array = np.zeros([file_count, 200, 200, 3])"
   ]
  },
  {
   "cell_type": "code",
   "execution_count": 245,
   "metadata": {},
   "outputs": [],
   "source": [
    "image_list =[]\n",
    "resized_images = []\n",
    "    \n",
    "    \n",
    "import glob    \n",
    "for filename in glob.glob(r'\\Users\\HP\\photos\\*.jpg'):\n",
    "    img = Image.open(filename)\n",
    "    image_list.append(img)\n",
    "    "
   ]
  },
  {
   "cell_type": "code",
   "execution_count": 246,
   "metadata": {},
   "outputs": [],
   "source": [
    "for image in image_list:\n",
    "    res = image.resize((100,100))\n",
    "    resized_images.append(res)"
   ]
  },
  {
   "cell_type": "code",
   "execution_count": 247,
   "metadata": {},
   "outputs": [],
   "source": [
    "def filesfinder(directory):\n",
    "    files_list = []\n",
    "\n",
    "    for pic in directory:\n",
    "        im = Image.open(f\"{rootDir}/ {pic}\")\n",
    "\n",
    "        files_list.append(im)\n",
    "\n",
    "    length_of_list = len(files_list)\n",
    "    return length_of_list, files_list"
   ]
  },
  {
   "cell_type": "code",
   "execution_count": 277,
   "metadata": {},
   "outputs": [],
   "source": [
    "def resizing__images(image_size):\n",
    "    resized_images = []\n",
    "    image_list =[]\n",
    "    \n",
    "    \n",
    "    \n",
    "    import glob    \n",
    "    for filename in glob.glob(r'\\Users\\HP\\assigment\\*.jpg'):\n",
    "         img = Image.open(filename)\n",
    "    for image in image_list:\n",
    "        res = image.resize((100,100))\n",
    "        resized_images.append(res)\n",
    "\n",
    "    for img in picsDir:\n",
    "        image = Image.open(f\"{rootDir}/ {pic}\")\n",
    "        image = resizeimage.resize_crop(image, image_size)\n",
    "        # image.thumbnail(image_size)\n",
    "        resized_images.append(image)\n",
    "\n",
    "    return resized_images\n",
    "    \n",
    "    '''\n",
    "        image_list = Image.open(filename)\n",
    "        image = resizeimage.resize_crop(image, image_size)\n",
    "        # image.thumbnail(image_size)\n",
    "        resized_images.append(image)\n",
    "\n",
    "    return resized_images '''"
   ]
  },
  {
   "cell_type": "code",
   "execution_count": 278,
   "metadata": {},
   "outputs": [],
   "source": [
    "def converttonumpyarray(list_of_resized_images):\n",
    "    for image in list_of_resized_images:\n",
    "        array1 = np.array(image).resize(200,200, 3)\n",
    "        #array1 = np.ravel(image).reshape(200,200,3)\n",
    "        \n",
    "        for img in list_of_resized_images:\n",
    "            array2 = np.array(image).resize(200,200, 3)\n",
    "            #array5.flatten(image).reshape(200,200,3)   \n",
    "            array1 = np.hstack((array1, array2))\n",
    "            break\n",
    "\n",
    "        return array1"
   ]
  },
  {
   "cell_type": "code",
   "execution_count": 279,
   "metadata": {},
   "outputs": [
    {
     "name": "stdout",
     "output_type": "stream",
     "text": [
      "Resized images are: \n",
      "Numpy array of 20 images are:\n",
      "[None None]\n"
     ]
    }
   ],
   "source": [
    "def main():\n",
    "    # Finding files\n",
    "    num_of_files = file_count\n",
    "   # print('Number of files are : ', num_of_files)\n",
    "\n",
    "    # Resizing pictures\n",
    "    #resized_images = resizing_images()\n",
    "    print(\"Resized images are: \")\n",
    "   # print(resized_images)\n",
    "\n",
    "    # Converting to numpy array\n",
    "    nparray = converttonumpyarray(resized_images)\n",
    "    print(\"Numpy array of 20 images are:\")\n",
    "    print(nparray)\n",
    "\n",
    "    return nparray\n",
    "\n",
    "\n",
    "if __name__ == \"__main__\":\n",
    "    main()"
   ]
  },
  {
   "cell_type": "code",
   "execution_count": null,
   "metadata": {},
   "outputs": [],
   "source": []
  },
  {
   "cell_type": "code",
   "execution_count": null,
   "metadata": {},
   "outputs": [],
   "source": []
  }
 ],
 "metadata": {
  "kernelspec": {
   "display_name": "Python 3",
   "language": "python",
   "name": "python3"
  },
  "language_info": {
   "codemirror_mode": {
    "name": "ipython",
    "version": 3
   },
   "file_extension": ".py",
   "mimetype": "text/x-python",
   "name": "python",
   "nbconvert_exporter": "python",
   "pygments_lexer": "ipython3",
   "version": "3.7.3"
  }
 },
 "nbformat": 4,
 "nbformat_minor": 2
}
